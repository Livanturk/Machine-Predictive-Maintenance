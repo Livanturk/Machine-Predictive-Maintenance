{
 "cells": [
  {
   "cell_type": "markdown",
   "id": "6a348f5a",
   "metadata": {},
   "source": [
    "Data Overview"
   ]
  },
  {
   "cell_type": "code",
   "execution_count": 2,
   "id": "ffc785dd",
   "metadata": {},
   "outputs": [
    {
     "name": "stdout",
     "output_type": "stream",
     "text": [
      "<class 'pandas.core.frame.DataFrame'>\n",
      "RangeIndex: 10000 entries, 0 to 9999\n",
      "Data columns (total 10 columns):\n",
      " #   Column                   Non-Null Count  Dtype  \n",
      "---  ------                   --------------  -----  \n",
      " 0   UDI                      10000 non-null  int64  \n",
      " 1   Product ID               10000 non-null  object \n",
      " 2   Type                     10000 non-null  object \n",
      " 3   Air temperature [K]      10000 non-null  float64\n",
      " 4   Process temperature [K]  10000 non-null  float64\n",
      " 5   Rotational speed [rpm]   10000 non-null  int64  \n",
      " 6   Torque [Nm]              10000 non-null  float64\n",
      " 7   Tool wear [min]          10000 non-null  int64  \n",
      " 8   Target                   10000 non-null  int64  \n",
      " 9   Failure Type             10000 non-null  object \n",
      "dtypes: float64(3), int64(4), object(3)\n",
      "memory usage: 781.4+ KB\n"
     ]
    }
   ],
   "source": [
    "import pandas as pd\n",
    "\n",
    "df = pd.read_csv(\"../data/raw/predictive_maintenance.csv\")\n",
    "df.info()\n"
   ]
  },
  {
   "cell_type": "code",
   "execution_count": 4,
   "id": "63e487db",
   "metadata": {},
   "outputs": [
    {
     "data": {
      "application/vnd.microsoft.datawrangler.viewer.v0+json": {
       "columns": [
        {
         "name": "index",
         "rawType": "int64",
         "type": "integer"
        },
        {
         "name": "UDI",
         "rawType": "int64",
         "type": "integer"
        },
        {
         "name": "Product ID",
         "rawType": "object",
         "type": "string"
        },
        {
         "name": "Type",
         "rawType": "object",
         "type": "string"
        },
        {
         "name": "Air temperature [K]",
         "rawType": "float64",
         "type": "float"
        },
        {
         "name": "Process temperature [K]",
         "rawType": "float64",
         "type": "float"
        },
        {
         "name": "Rotational speed [rpm]",
         "rawType": "int64",
         "type": "integer"
        },
        {
         "name": "Torque [Nm]",
         "rawType": "float64",
         "type": "float"
        },
        {
         "name": "Tool wear [min]",
         "rawType": "int64",
         "type": "integer"
        },
        {
         "name": "Target",
         "rawType": "int64",
         "type": "integer"
        },
        {
         "name": "Failure Type",
         "rawType": "object",
         "type": "string"
        }
       ],
       "ref": "f346c30f-8e62-45ea-80ed-2a53c2de4b1c",
       "rows": [
        [
         "0",
         "1",
         "M14860",
         "M",
         "298.1",
         "308.6",
         "1551",
         "42.8",
         "0",
         "0",
         "No Failure"
        ],
        [
         "1",
         "2",
         "L47181",
         "L",
         "298.2",
         "308.7",
         "1408",
         "46.3",
         "3",
         "0",
         "No Failure"
        ],
        [
         "2",
         "3",
         "L47182",
         "L",
         "298.1",
         "308.5",
         "1498",
         "49.4",
         "5",
         "0",
         "No Failure"
        ],
        [
         "3",
         "4",
         "L47183",
         "L",
         "298.2",
         "308.6",
         "1433",
         "39.5",
         "7",
         "0",
         "No Failure"
        ],
        [
         "4",
         "5",
         "L47184",
         "L",
         "298.2",
         "308.7",
         "1408",
         "40.0",
         "9",
         "0",
         "No Failure"
        ]
       ],
       "shape": {
        "columns": 10,
        "rows": 5
       }
      },
      "text/html": [
       "<div>\n",
       "<style scoped>\n",
       "    .dataframe tbody tr th:only-of-type {\n",
       "        vertical-align: middle;\n",
       "    }\n",
       "\n",
       "    .dataframe tbody tr th {\n",
       "        vertical-align: top;\n",
       "    }\n",
       "\n",
       "    .dataframe thead th {\n",
       "        text-align: right;\n",
       "    }\n",
       "</style>\n",
       "<table border=\"1\" class=\"dataframe\">\n",
       "  <thead>\n",
       "    <tr style=\"text-align: right;\">\n",
       "      <th></th>\n",
       "      <th>UDI</th>\n",
       "      <th>Product ID</th>\n",
       "      <th>Type</th>\n",
       "      <th>Air temperature [K]</th>\n",
       "      <th>Process temperature [K]</th>\n",
       "      <th>Rotational speed [rpm]</th>\n",
       "      <th>Torque [Nm]</th>\n",
       "      <th>Tool wear [min]</th>\n",
       "      <th>Target</th>\n",
       "      <th>Failure Type</th>\n",
       "    </tr>\n",
       "  </thead>\n",
       "  <tbody>\n",
       "    <tr>\n",
       "      <th>0</th>\n",
       "      <td>1</td>\n",
       "      <td>M14860</td>\n",
       "      <td>M</td>\n",
       "      <td>298.1</td>\n",
       "      <td>308.6</td>\n",
       "      <td>1551</td>\n",
       "      <td>42.8</td>\n",
       "      <td>0</td>\n",
       "      <td>0</td>\n",
       "      <td>No Failure</td>\n",
       "    </tr>\n",
       "    <tr>\n",
       "      <th>1</th>\n",
       "      <td>2</td>\n",
       "      <td>L47181</td>\n",
       "      <td>L</td>\n",
       "      <td>298.2</td>\n",
       "      <td>308.7</td>\n",
       "      <td>1408</td>\n",
       "      <td>46.3</td>\n",
       "      <td>3</td>\n",
       "      <td>0</td>\n",
       "      <td>No Failure</td>\n",
       "    </tr>\n",
       "    <tr>\n",
       "      <th>2</th>\n",
       "      <td>3</td>\n",
       "      <td>L47182</td>\n",
       "      <td>L</td>\n",
       "      <td>298.1</td>\n",
       "      <td>308.5</td>\n",
       "      <td>1498</td>\n",
       "      <td>49.4</td>\n",
       "      <td>5</td>\n",
       "      <td>0</td>\n",
       "      <td>No Failure</td>\n",
       "    </tr>\n",
       "    <tr>\n",
       "      <th>3</th>\n",
       "      <td>4</td>\n",
       "      <td>L47183</td>\n",
       "      <td>L</td>\n",
       "      <td>298.2</td>\n",
       "      <td>308.6</td>\n",
       "      <td>1433</td>\n",
       "      <td>39.5</td>\n",
       "      <td>7</td>\n",
       "      <td>0</td>\n",
       "      <td>No Failure</td>\n",
       "    </tr>\n",
       "    <tr>\n",
       "      <th>4</th>\n",
       "      <td>5</td>\n",
       "      <td>L47184</td>\n",
       "      <td>L</td>\n",
       "      <td>298.2</td>\n",
       "      <td>308.7</td>\n",
       "      <td>1408</td>\n",
       "      <td>40.0</td>\n",
       "      <td>9</td>\n",
       "      <td>0</td>\n",
       "      <td>No Failure</td>\n",
       "    </tr>\n",
       "  </tbody>\n",
       "</table>\n",
       "</div>"
      ],
      "text/plain": [
       "   UDI Product ID Type  Air temperature [K]  Process temperature [K]  \\\n",
       "0    1     M14860    M                298.1                    308.6   \n",
       "1    2     L47181    L                298.2                    308.7   \n",
       "2    3     L47182    L                298.1                    308.5   \n",
       "3    4     L47183    L                298.2                    308.6   \n",
       "4    5     L47184    L                298.2                    308.7   \n",
       "\n",
       "   Rotational speed [rpm]  Torque [Nm]  Tool wear [min]  Target Failure Type  \n",
       "0                    1551         42.8                0       0   No Failure  \n",
       "1                    1408         46.3                3       0   No Failure  \n",
       "2                    1498         49.4                5       0   No Failure  \n",
       "3                    1433         39.5                7       0   No Failure  \n",
       "4                    1408         40.0                9       0   No Failure  "
      ]
     },
     "execution_count": 4,
     "metadata": {},
     "output_type": "execute_result"
    }
   ],
   "source": [
    "df.head()\n"
   ]
  },
  {
   "cell_type": "code",
   "execution_count": 5,
   "id": "93e29475",
   "metadata": {},
   "outputs": [
    {
     "data": {
      "application/vnd.microsoft.datawrangler.viewer.v0+json": {
       "columns": [
        {
         "name": "index",
         "rawType": "object",
         "type": "string"
        },
        {
         "name": "UDI",
         "rawType": "float64",
         "type": "float"
        },
        {
         "name": "Air temperature [K]",
         "rawType": "float64",
         "type": "float"
        },
        {
         "name": "Process temperature [K]",
         "rawType": "float64",
         "type": "float"
        },
        {
         "name": "Rotational speed [rpm]",
         "rawType": "float64",
         "type": "float"
        },
        {
         "name": "Torque [Nm]",
         "rawType": "float64",
         "type": "float"
        },
        {
         "name": "Tool wear [min]",
         "rawType": "float64",
         "type": "float"
        },
        {
         "name": "Target",
         "rawType": "float64",
         "type": "float"
        }
       ],
       "ref": "70b2e770-37e7-48a6-9ca4-f94a954a5f99",
       "rows": [
        [
         "count",
         "10000.0",
         "10000.0",
         "10000.0",
         "10000.0",
         "10000.0",
         "10000.0",
         "10000.0"
        ],
        [
         "mean",
         "5000.5",
         "300.00493",
         "310.00555999999995",
         "1538.7761",
         "39.986909999999995",
         "107.951",
         "0.0339"
        ],
        [
         "std",
         "2886.8956799071675",
         "2.0002586829157516",
         "1.4837342191657208",
         "179.2840959134266",
         "9.968933725121337",
         "63.65414663663636",
         "0.18098084265065362"
        ],
        [
         "min",
         "1.0",
         "295.3",
         "305.7",
         "1168.0",
         "3.8",
         "0.0",
         "0.0"
        ],
        [
         "25%",
         "2500.75",
         "298.3",
         "308.8",
         "1423.0",
         "33.2",
         "53.0",
         "0.0"
        ],
        [
         "50%",
         "5000.5",
         "300.1",
         "310.1",
         "1503.0",
         "40.1",
         "108.0",
         "0.0"
        ],
        [
         "75%",
         "7500.25",
         "301.5",
         "311.1",
         "1612.0",
         "46.8",
         "162.0",
         "0.0"
        ],
        [
         "max",
         "10000.0",
         "304.5",
         "313.8",
         "2886.0",
         "76.6",
         "253.0",
         "1.0"
        ]
       ],
       "shape": {
        "columns": 7,
        "rows": 8
       }
      },
      "text/html": [
       "<div>\n",
       "<style scoped>\n",
       "    .dataframe tbody tr th:only-of-type {\n",
       "        vertical-align: middle;\n",
       "    }\n",
       "\n",
       "    .dataframe tbody tr th {\n",
       "        vertical-align: top;\n",
       "    }\n",
       "\n",
       "    .dataframe thead th {\n",
       "        text-align: right;\n",
       "    }\n",
       "</style>\n",
       "<table border=\"1\" class=\"dataframe\">\n",
       "  <thead>\n",
       "    <tr style=\"text-align: right;\">\n",
       "      <th></th>\n",
       "      <th>UDI</th>\n",
       "      <th>Air temperature [K]</th>\n",
       "      <th>Process temperature [K]</th>\n",
       "      <th>Rotational speed [rpm]</th>\n",
       "      <th>Torque [Nm]</th>\n",
       "      <th>Tool wear [min]</th>\n",
       "      <th>Target</th>\n",
       "    </tr>\n",
       "  </thead>\n",
       "  <tbody>\n",
       "    <tr>\n",
       "      <th>count</th>\n",
       "      <td>10000.00000</td>\n",
       "      <td>10000.000000</td>\n",
       "      <td>10000.000000</td>\n",
       "      <td>10000.000000</td>\n",
       "      <td>10000.000000</td>\n",
       "      <td>10000.000000</td>\n",
       "      <td>10000.000000</td>\n",
       "    </tr>\n",
       "    <tr>\n",
       "      <th>mean</th>\n",
       "      <td>5000.50000</td>\n",
       "      <td>300.004930</td>\n",
       "      <td>310.005560</td>\n",
       "      <td>1538.776100</td>\n",
       "      <td>39.986910</td>\n",
       "      <td>107.951000</td>\n",
       "      <td>0.033900</td>\n",
       "    </tr>\n",
       "    <tr>\n",
       "      <th>std</th>\n",
       "      <td>2886.89568</td>\n",
       "      <td>2.000259</td>\n",
       "      <td>1.483734</td>\n",
       "      <td>179.284096</td>\n",
       "      <td>9.968934</td>\n",
       "      <td>63.654147</td>\n",
       "      <td>0.180981</td>\n",
       "    </tr>\n",
       "    <tr>\n",
       "      <th>min</th>\n",
       "      <td>1.00000</td>\n",
       "      <td>295.300000</td>\n",
       "      <td>305.700000</td>\n",
       "      <td>1168.000000</td>\n",
       "      <td>3.800000</td>\n",
       "      <td>0.000000</td>\n",
       "      <td>0.000000</td>\n",
       "    </tr>\n",
       "    <tr>\n",
       "      <th>25%</th>\n",
       "      <td>2500.75000</td>\n",
       "      <td>298.300000</td>\n",
       "      <td>308.800000</td>\n",
       "      <td>1423.000000</td>\n",
       "      <td>33.200000</td>\n",
       "      <td>53.000000</td>\n",
       "      <td>0.000000</td>\n",
       "    </tr>\n",
       "    <tr>\n",
       "      <th>50%</th>\n",
       "      <td>5000.50000</td>\n",
       "      <td>300.100000</td>\n",
       "      <td>310.100000</td>\n",
       "      <td>1503.000000</td>\n",
       "      <td>40.100000</td>\n",
       "      <td>108.000000</td>\n",
       "      <td>0.000000</td>\n",
       "    </tr>\n",
       "    <tr>\n",
       "      <th>75%</th>\n",
       "      <td>7500.25000</td>\n",
       "      <td>301.500000</td>\n",
       "      <td>311.100000</td>\n",
       "      <td>1612.000000</td>\n",
       "      <td>46.800000</td>\n",
       "      <td>162.000000</td>\n",
       "      <td>0.000000</td>\n",
       "    </tr>\n",
       "    <tr>\n",
       "      <th>max</th>\n",
       "      <td>10000.00000</td>\n",
       "      <td>304.500000</td>\n",
       "      <td>313.800000</td>\n",
       "      <td>2886.000000</td>\n",
       "      <td>76.600000</td>\n",
       "      <td>253.000000</td>\n",
       "      <td>1.000000</td>\n",
       "    </tr>\n",
       "  </tbody>\n",
       "</table>\n",
       "</div>"
      ],
      "text/plain": [
       "               UDI  Air temperature [K]  Process temperature [K]  \\\n",
       "count  10000.00000         10000.000000             10000.000000   \n",
       "mean    5000.50000           300.004930               310.005560   \n",
       "std     2886.89568             2.000259                 1.483734   \n",
       "min        1.00000           295.300000               305.700000   \n",
       "25%     2500.75000           298.300000               308.800000   \n",
       "50%     5000.50000           300.100000               310.100000   \n",
       "75%     7500.25000           301.500000               311.100000   \n",
       "max    10000.00000           304.500000               313.800000   \n",
       "\n",
       "       Rotational speed [rpm]   Torque [Nm]  Tool wear [min]        Target  \n",
       "count            10000.000000  10000.000000     10000.000000  10000.000000  \n",
       "mean              1538.776100     39.986910       107.951000      0.033900  \n",
       "std                179.284096      9.968934        63.654147      0.180981  \n",
       "min               1168.000000      3.800000         0.000000      0.000000  \n",
       "25%               1423.000000     33.200000        53.000000      0.000000  \n",
       "50%               1503.000000     40.100000       108.000000      0.000000  \n",
       "75%               1612.000000     46.800000       162.000000      0.000000  \n",
       "max               2886.000000     76.600000       253.000000      1.000000  "
      ]
     },
     "execution_count": 5,
     "metadata": {},
     "output_type": "execute_result"
    }
   ],
   "source": [
    "df.describe()"
   ]
  },
  {
   "cell_type": "code",
   "execution_count": 6,
   "id": "c8ef74ef",
   "metadata": {},
   "outputs": [
    {
     "data": {
      "application/vnd.microsoft.datawrangler.viewer.v0+json": {
       "columns": [
        {
         "name": "index",
         "rawType": "object",
         "type": "string"
        },
        {
         "name": "0",
         "rawType": "int64",
         "type": "integer"
        }
       ],
       "ref": "273190ee-1ae1-473e-a73f-9c2bfc9c45d8",
       "rows": [
        [
         "UDI",
         "0"
        ],
        [
         "Product ID",
         "0"
        ],
        [
         "Type",
         "0"
        ],
        [
         "Air temperature [K]",
         "0"
        ],
        [
         "Process temperature [K]",
         "0"
        ],
        [
         "Rotational speed [rpm]",
         "0"
        ],
        [
         "Torque [Nm]",
         "0"
        ],
        [
         "Tool wear [min]",
         "0"
        ],
        [
         "Target",
         "0"
        ],
        [
         "Failure Type",
         "0"
        ]
       ],
       "shape": {
        "columns": 1,
        "rows": 10
       }
      },
      "text/plain": [
       "UDI                        0\n",
       "Product ID                 0\n",
       "Type                       0\n",
       "Air temperature [K]        0\n",
       "Process temperature [K]    0\n",
       "Rotational speed [rpm]     0\n",
       "Torque [Nm]                0\n",
       "Tool wear [min]            0\n",
       "Target                     0\n",
       "Failure Type               0\n",
       "dtype: int64"
      ]
     },
     "execution_count": 6,
     "metadata": {},
     "output_type": "execute_result"
    }
   ],
   "source": [
    "df.isna().sum()"
   ]
  },
  {
   "cell_type": "markdown",
   "id": "1c481432",
   "metadata": {},
   "source": [
    "Class Balance"
   ]
  },
  {
   "cell_type": "code",
   "execution_count": 3,
   "id": "f6e1c1fe",
   "metadata": {},
   "outputs": [
    {
     "data": {
      "text/plain": [
       "([0, 1, 2, 3, 4, 5],\n",
       " [Text(0, 0, 'No Failure'),\n",
       "  Text(1, 0, 'Power Failure'),\n",
       "  Text(2, 0, 'Tool Wear Failure'),\n",
       "  Text(3, 0, 'Overstrain Failure'),\n",
       "  Text(4, 0, 'Random Failures'),\n",
       "  Text(5, 0, 'Heat Dissipation Failure')])"
      ]
     },
     "execution_count": 3,
     "metadata": {},
     "output_type": "execute_result"
    },
    {
     "data": {
      "image/png": "[encoded data removed]",
      "text/plain": [
       "<Figure size 640x480 with 1 Axes>"
      ]
     },
     "metadata": {},
     "output_type": "display_data"
    },
    {
     "data": {
      "image/png": "[encoded data removed]",
      "text/plain": [
       "<Figure size 640x480 with 1 Axes>"
      ]
     },
     "metadata": {},
     "output_type": "display_data"
    }
   ],
   "source": [
    "import matplotlib.pyplot as plt\n",
    "import seaborn as sns\n",
    "\n",
    "#Binary target\n",
    "sns.countplot(x = \"Target\", data = df)\n",
    "plt.title(\"Failure Class Distribution\")\n",
    "\n",
    "plt.figure()\n",
    "sns.countplot(x = \"Failure Type\", data = df)\n",
    "plt.title(\"Failure Type Distribution\")\n",
    "plt.xticks(rotation = 45)\n"
   ]
  },
  {
   "cell_type": "markdown",
   "id": "79e4dfcc",
   "metadata": {},
   "source": [
    "Numerical Distribution"
   ]
  },
  {
   "cell_type": "code",
   "execution_count": 4,
   "id": "c7f9be30",
   "metadata": {},
   "outputs": [
    {
     "data": {
      "image/png": "[encoded data removed]",
      "text/plain": [
       "<Figure size 1200x800 with 6 Axes>"
      ]
     },
     "metadata": {},
     "output_type": "display_data"
    }
   ],
   "source": [
    "num_cols = [\n",
    "    \"Air temperature [K]\",\n",
    "    \"Process temperature [K]\",\n",
    "    \"Rotational speed [rpm]\",\n",
    "    \"Torque [Nm]\",\n",
    "    \"Tool wear [min]\"\n",
    "]\n",
    "\n",
    "df[num_cols].hist(bins = 30, figsize =(12,8))\n",
    "plt.tight_layout()"
   ]
  },
  {
   "cell_type": "markdown",
   "id": "87af5558",
   "metadata": {},
   "source": [
    "Feature Correlation"
   ]
  },
  {
   "cell_type": "code",
   "execution_count": 5,
   "id": "a47e59bd",
   "metadata": {},
   "outputs": [
    {
     "data": {
      "text/plain": [
       "<Axes: >"
      ]
     },
     "execution_count": 5,
     "metadata": {},
     "output_type": "execute_result"
    },
    {
     "data": {
      "image/png": "[encoded data removed]",
      "text/plain": [
       "<Figure size 640x480 with 2 Axes>"
      ]
     },
     "metadata": {},
     "output_type": "display_data"
    }
   ],
   "source": [
    "corr = df[num_cols].corr()\n",
    "sns.heatmap(corr, annot = True, cmap = \"coolwarm\")"
   ]
  },
  {
   "cell_type": "markdown",
   "id": "65e226b1",
   "metadata": {},
   "source": [
    "Feature vs Target Analysis"
   ]
  },
  {
   "cell_type": "code",
   "execution_count": 6,
   "id": "ee094690",
   "metadata": {},
   "outputs": [
    {
     "data": {
      "image/png": "[encoded data removed]",
      "text/plain": [
       "<Figure size 640x480 with 1 Axes>"
      ]
     },
     "metadata": {},
     "output_type": "display_data"
    },
    {
     "data": {
      "image/png": "[encoded data removed]",
      "text/plain": [
       "<Figure size 640x480 with 1 Axes>"
      ]
     },
     "metadata": {},
     "output_type": "display_data"
    },
    {
     "data": {
      "image/png": "[encoded data removed]",
      "text/plain": [
       "<Figure size 640x480 with 1 Axes>"
      ]
     },
     "metadata": {},
     "output_type": "display_data"
    },
    {
     "data": {
      "image/png": "[encoded data removed]",
      "text/plain": [
       "<Figure size 640x480 with 1 Axes>"
      ]
     },
     "metadata": {},
     "output_type": "display_data"
    },
    {
     "data": {
      "image/png": "[encoded data removed]",
      "text/plain": [
       "<Figure size 640x480 with 1 Axes>"
      ]
     },
     "metadata": {},
     "output_type": "display_data"
    }
   ],
   "source": [
    "for col in num_cols:\n",
    "    plt.figure()\n",
    "    sns.boxplot(x = \"Target\", y = col, data = df)\n",
    "    plt.title(f\"{col} vs Failure\")"
   ]
  },
  {
   "cell_type": "markdown",
   "id": "2fb0d5b1",
   "metadata": {},
   "source": [
    "Categorical Variables Analysis"
   ]
  },
  {
   "cell_type": "code",
   "execution_count": 7,
   "id": "c633d627",
   "metadata": {},
   "outputs": [
    {
     "data": {
      "text/plain": [
       "Text(0.5, 1.0, 'Type vs Failure')"
      ]
     },
     "execution_count": 7,
     "metadata": {},
     "output_type": "execute_result"
    },
    {
     "data": {
      "image/png": "[encoded data removed]",
      "text/plain": [
       "<Figure size 640x480 with 1 Axes>"
      ]
     },
     "metadata": {},
     "output_type": "display_data"
    }
   ],
   "source": [
    "sns.countplot(x = \"Type\", hue = \"Target\", data = df)\n",
    "plt.title(\"Type vs Failure\")"
   ]
  },
  {
   "cell_type": "markdown",
   "id": "ddd2b573",
   "metadata": {},
   "source": [
    "Derived Feature Analysis"
   ]
  },
  {
   "cell_type": "code",
   "execution_count": 8,
   "id": "182029d1",
   "metadata": {},
   "outputs": [
    {
     "data": {
      "text/plain": [
       "<Axes: xlabel='Target', ylabel='Temp_Diff'>"
      ]
     },
     "execution_count": 8,
     "metadata": {},
     "output_type": "execute_result"
    },
    {
     "data": {
      "image/png": "[encoded data removed]",
      "text/plain": [
       "<Figure size 640x480 with 1 Axes>"
      ]
     },
     "metadata": {},
     "output_type": "display_data"
    }
   ],
   "source": [
    "df[\"Temp_Diff\"] = df[\"Process temperature [K]\"] - df[\"Air temperature [K]\"]\n",
    "sns.boxplot(x = \"Target\", y = \"Temp_Diff\", data = df)"
   ]
  },
  {
   "cell_type": "markdown",
   "id": "aed0df56",
   "metadata": {},
   "source": [
    "Outlier Analysis"
   ]
  },
  {
   "cell_type": "code",
   "execution_count": 9,
   "id": "edb47a2d",
   "metadata": {},
   "outputs": [
    {
     "data": {
      "application/vnd.microsoft.datawrangler.viewer.v0+json": {
       "columns": [
        {
         "name": "index",
         "rawType": "int64",
         "type": "integer"
        },
        {
         "name": "UDI",
         "rawType": "int64",
         "type": "integer"
        },
        {
         "name": "Product ID",
         "rawType": "object",
         "type": "string"
        },
        {
         "name": "Type",
         "rawType": "object",
         "type": "string"
        },
        {
         "name": "Air temperature [K]",
         "rawType": "float64",
         "type": "float"
        },
        {
         "name": "Process temperature [K]",
         "rawType": "float64",
         "type": "float"
        },
        {
         "name": "Rotational speed [rpm]",
         "rawType": "int64",
         "type": "integer"
        },
        {
         "name": "Torque [Nm]",
         "rawType": "float64",
         "type": "float"
        },
        {
         "name": "Tool wear [min]",
         "rawType": "int64",
         "type": "integer"
        },
        {
         "name": "Target",
         "rawType": "int64",
         "type": "integer"
        },
        {
         "name": "Failure Type",
         "rawType": "object",
         "type": "string"
        },
        {
         "name": "Temp_Diff",
         "rawType": "float64",
         "type": "float"
        }
       ],
       "ref": "cf1332ba-dd05-4ad7-8393-c7510ddea55c",
       "rows": [
        [
         "50",
         "51",
         "L47230",
         "L",
         "298.9",
         "309.1",
         "2861",
         "4.6",
         "143",
         "1",
         "Power Failure",
         "10.200000000000045"
        ],
        [
         "194",
         "195",
         "M15054",
         "M",
         "298.2",
         "308.5",
         "2678",
         "10.7",
         "86",
         "1",
         "Power Failure",
         "10.300000000000011"
        ],
        [
         "298",
         "299",
         "H29712",
         "H",
         "297.9",
         "308.5",
         "2129",
         "18.7",
         "126",
         "0",
         "No Failure",
         "10.600000000000023"
        ],
        [
         "305",
         "306",
         "L47485",
         "L",
         "297.8",
         "308.4",
         "2129",
         "19.2",
         "148",
         "0",
         "No Failure",
         "10.599999999999966"
        ],
        [
         "344",
         "345",
         "M15204",
         "M",
         "297.5",
         "308.2",
         "2448",
         "13.8",
         "29",
         "0",
         "No Failure",
         "10.699999999999989"
        ],
        [
         "380",
         "381",
         "L47560",
         "L",
         "297.5",
         "308.3",
         "2564",
         "12.8",
         "127",
         "1",
         "Power Failure",
         "10.800000000000011"
        ],
        [
         "400",
         "401",
         "L47580",
         "L",
         "297.4",
         "308.5",
         "2100",
         "16.9",
         "176",
         "0",
         "No Failure",
         "11.100000000000023"
        ],
        [
         "418",
         "419",
         "L47598",
         "L",
         "297.4",
         "308.4",
         "2151",
         "17.7",
         "0",
         "0",
         "No Failure",
         "11.0"
        ],
        [
         "463",
         "464",
         "L47643",
         "L",
         "297.4",
         "308.7",
         "2874",
         "4.2",
         "118",
         "1",
         "Power Failure",
         "11.300000000000011"
        ],
        [
         "467",
         "468",
         "L47647",
         "L",
         "297.2",
         "308.5",
         "2182",
         "16.5",
         "127",
         "0",
         "No Failure",
         "11.300000000000011"
        ],
        [
         "601",
         "602",
         "L47781",
         "L",
         "297.9",
         "309.7",
         "2194",
         "16.8",
         "27",
         "0",
         "No Failure",
         "11.800000000000011"
        ],
        [
         "603",
         "604",
         "L47783",
         "L",
         "297.9",
         "309.8",
         "1336",
         "71.6",
         "31",
         "1",
         "Power Failure",
         "11.900000000000034"
        ],
        [
         "847",
         "848",
         "L48027",
         "L",
         "296.4",
         "307.4",
         "2833",
         "5.6",
         "213",
         "1",
         "Power Failure",
         "11.0"
        ],
        [
         "880",
         "881",
         "M15740",
         "M",
         "295.8",
         "306.3",
         "1235",
         "76.2",
         "89",
         "1",
         "Power Failure",
         "10.5"
        ],
        [
         "887",
         "888",
         "H30301",
         "H",
         "295.7",
         "306.2",
         "2161",
         "16.5",
         "105",
         "0",
         "No Failure",
         "10.5"
        ],
        [
         "903",
         "904",
         "L48083",
         "L",
         "295.7",
         "306.2",
         "2270",
         "14.6",
         "149",
         "1",
         "Power Failure",
         "10.5"
        ],
        [
         "989",
         "990",
         "M15849",
         "M",
         "296.2",
         "307.0",
         "2119",
         "18.3",
         "159",
         "0",
         "No Failure",
         "10.800000000000011"
        ],
        [
         "1095",
         "1096",
         "L48275",
         "L",
         "296.9",
         "307.5",
         "2721",
         "9.3",
         "18",
         "1",
         "Power Failure",
         "10.600000000000023"
        ],
        [
         "1115",
         "1116",
         "M15975",
         "M",
         "296.4",
         "307.3",
         "2077",
         "19.1",
         "80",
         "0",
         "No Failure",
         "10.900000000000034"
        ],
        [
         "1209",
         "1210",
         "H30623",
         "H",
         "297.0",
         "308.1",
         "2540",
         "13.3",
         "98",
         "0",
         "No Failure",
         "11.100000000000023"
        ],
        [
         "1234",
         "1235",
         "H30648",
         "H",
         "297.2",
         "308.5",
         "2440",
         "14.0",
         "166",
         "0",
         "No Failure",
         "11.300000000000011"
        ],
        [
         "1264",
         "1265",
         "M16124",
         "M",
         "297.8",
         "309.3",
         "2243",
         "15.7",
         "36",
         "0",
         "No Failure",
         "11.5"
        ],
        [
         "1284",
         "1285",
         "L48464",
         "L",
         "298.4",
         "309.5",
         "2153",
         "15.3",
         "98",
         "1",
         "Power Failure",
         "11.100000000000023"
        ],
        [
         "1304",
         "1305",
         "L48484",
         "L",
         "298.8",
         "310.0",
         "2098",
         "19.6",
         "148",
         "0",
         "No Failure",
         "11.199999999999989"
        ],
        [
         "1324",
         "1325",
         "M16184",
         "M",
         "298.8",
         "310.1",
         "1243",
         "74.5",
         "194",
         "1",
         "Power Failure",
         "11.300000000000011"
        ],
        [
         "1391",
         "1392",
         "L48571",
         "L",
         "298.9",
         "310.2",
         "2737",
         "8.8",
         "142",
         "1",
         "Power Failure",
         "11.300000000000011"
        ],
        [
         "1416",
         "1417",
         "M16276",
         "M",
         "298.7",
         "309.9",
         "2083",
         "18.2",
         "205",
         "0",
         "No Failure",
         "11.199999999999989"
        ],
        [
         "1499",
         "1500",
         "M16359",
         "M",
         "298.1",
         "308.8",
         "2206",
         "16.3",
         "195",
         "0",
         "No Failure",
         "10.699999999999989"
        ],
        [
         "1500",
         "1501",
         "M16360",
         "M",
         "298.0",
         "308.7",
         "2101",
         "17.4",
         "198",
         "0",
         "No Failure",
         "10.699999999999989"
        ],
        [
         "1525",
         "1526",
         "L48705",
         "L",
         "298.2",
         "309.0",
         "2449",
         "13.8",
         "45",
         "0",
         "No Failure",
         "10.800000000000011"
        ],
        [
         "1541",
         "1542",
         "L48721",
         "L",
         "298.4",
         "309.0",
         "2304",
         "15.1",
         "89",
         "0",
         "No Failure",
         "10.600000000000023"
        ],
        [
         "1562",
         "1563",
         "L48742",
         "L",
         "298.2",
         "308.3",
         "2216",
         "16.8",
         "139",
         "0",
         "No Failure",
         "10.100000000000023"
        ],
        [
         "1564",
         "1565",
         "M16424",
         "M",
         "298.0",
         "308.2",
         "2090",
         "19.0",
         "143",
         "0",
         "No Failure",
         "10.199999999999989"
        ],
        [
         "1747",
         "1748",
         "L48927",
         "L",
         "298.4",
         "307.9",
         "2381",
         "14.2",
         "164",
         "0",
         "No Failure",
         "9.5"
        ],
        [
         "1784",
         "1785",
         "L48964",
         "L",
         "298.3",
         "308.0",
         "2886",
         "3.8",
         "57",
         "1",
         "Power Failure",
         "9.699999999999989"
        ],
        [
         "1808",
         "1809",
         "L48988",
         "L",
         "298.1",
         "307.7",
         "2567",
         "12.8",
         "125",
         "1",
         "Power Failure",
         "9.599999999999966"
        ],
        [
         "1920",
         "1921",
         "L49100",
         "L",
         "298.1",
         "307.9",
         "2161",
         "17.5",
         "5",
         "0",
         "No Failure",
         "9.799999999999955"
        ],
        [
         "1936",
         "1937",
         "M16796",
         "M",
         "298.1",
         "308.0",
         "2129",
         "18.4",
         "45",
         "0",
         "No Failure",
         "9.899999999999977"
        ],
        [
         "2080",
         "2081",
         "L49260",
         "L",
         "299.3",
         "309.2",
         "2280",
         "15.4",
         "207",
         "0",
         "No Failure",
         "9.899999999999977"
        ],
        [
         "2233",
         "2234",
         "L49413",
         "L",
         "299.5",
         "308.7",
         "2549",
         "13.0",
         "179",
         "1",
         "Power Failure",
         "9.199999999999989"
        ],
        [
         "2421",
         "2422",
         "L49601",
         "L",
         "298.9",
         "308.2",
         "2384",
         "15.0",
         "19",
         "0",
         "No Failure",
         "9.300000000000011"
        ],
        [
         "2452",
         "2453",
         "M17312",
         "M",
         "299.1",
         "308.6",
         "2329",
         "14.6",
         "95",
         "0",
         "No Failure",
         "9.5"
        ],
        [
         "2587",
         "2588",
         "L49767",
         "L",
         "299.0",
         "308.7",
         "2248",
         "16.8",
         "204",
         "0",
         "No Failure",
         "9.699999999999989"
        ],
        [
         "2589",
         "2590",
         "L49769",
         "L",
         "299.0",
         "308.7",
         "2250",
         "16.6",
         "208",
         "0",
         "No Failure",
         "9.699999999999989"
        ],
        [
         "2612",
         "2613",
         "L49792",
         "L",
         "299.4",
         "309.1",
         "2421",
         "14.2",
         "57",
         "0",
         "No Failure",
         "9.700000000000045"
        ],
        [
         "2665",
         "2666",
         "L49845",
         "L",
         "299.8",
         "309.4",
         "2256",
         "15.9",
         "201",
         "0",
         "No Failure",
         "9.599999999999966"
        ],
        [
         "2708",
         "2709",
         "L49888",
         "L",
         "299.6",
         "309.1",
         "2266",
         "15.3",
         "79",
         "0",
         "No Failure",
         "9.5"
        ],
        [
         "2781",
         "2782",
         "L49961",
         "L",
         "300.2",
         "309.5",
         "2183",
         "17.8",
         "39",
         "0",
         "No Failure",
         "9.300000000000011"
        ],
        [
         "2904",
         "2905",
         "L50084",
         "L",
         "300.6",
         "309.4",
         "2496",
         "13.5",
         "111",
         "0",
         "No Failure",
         "8.799999999999955"
        ],
        [
         "2940",
         "2941",
         "L50120",
         "L",
         "300.9",
         "309.7",
         "2355",
         "14.4",
         "201",
         "0",
         "No Failure",
         "8.800000000000011"
        ]
       ],
       "shape": {
        "columns": 11,
        "rows": 178
       }
      },
      "text/html": [
       "<div>\n",
       "<style scoped>\n",
       "    .dataframe tbody tr th:only-of-type {\n",
       "        vertical-align: middle;\n",
       "    }\n",
       "\n",
       "    .dataframe tbody tr th {\n",
       "        vertical-align: top;\n",
       "    }\n",
       "\n",
       "    .dataframe thead th {\n",
       "        text-align: right;\n",
       "    }\n",
       "</style>\n",
       "<table border=\"1\" class=\"dataframe\">\n",
       "  <thead>\n",
       "    <tr style=\"text-align: right;\">\n",
       "      <th></th>\n",
       "      <th>UDI</th>\n",
       "      <th>Product ID</th>\n",
       "      <th>Type</th>\n",
       "      <th>Air temperature [K]</th>\n",
       "      <th>Process temperature [K]</th>\n",
       "      <th>Rotational speed [rpm]</th>\n",
       "      <th>Torque [Nm]</th>\n",
       "      <th>Tool wear [min]</th>\n",
       "      <th>Target</th>\n",
       "      <th>Failure Type</th>\n",
       "      <th>Temp_Diff</th>\n",
       "    </tr>\n",
       "  </thead>\n",
       "  <tbody>\n",
       "    <tr>\n",
       "      <th>50</th>\n",
       "      <td>51</td>\n",
       "      <td>L47230</td>\n",
       "      <td>L</td>\n",
       "      <td>298.9</td>\n",
       "      <td>309.1</td>\n",
       "      <td>2861</td>\n",
       "      <td>4.6</td>\n",
       "      <td>143</td>\n",
       "      <td>1</td>\n",
       "      <td>Power Failure</td>\n",
       "      <td>10.2</td>\n",
       "    </tr>\n",
       "    <tr>\n",
       "      <th>194</th>\n",
       "      <td>195</td>\n",
       "      <td>M15054</td>\n",
       "      <td>M</td>\n",
       "      <td>298.2</td>\n",
       "      <td>308.5</td>\n",
       "      <td>2678</td>\n",
       "      <td>10.7</td>\n",
       "      <td>86</td>\n",
       "      <td>1</td>\n",
       "      <td>Power Failure</td>\n",
       "      <td>10.3</td>\n",
       "    </tr>\n",
       "    <tr>\n",
       "      <th>298</th>\n",
       "      <td>299</td>\n",
       "      <td>H29712</td>\n",
       "      <td>H</td>\n",
       "      <td>297.9</td>\n",
       "      <td>308.5</td>\n",
       "      <td>2129</td>\n",
       "      <td>18.7</td>\n",
       "      <td>126</td>\n",
       "      <td>0</td>\n",
       "      <td>No Failure</td>\n",
       "      <td>10.6</td>\n",
       "    </tr>\n",
       "    <tr>\n",
       "      <th>305</th>\n",
       "      <td>306</td>\n",
       "      <td>L47485</td>\n",
       "      <td>L</td>\n",
       "      <td>297.8</td>\n",
       "      <td>308.4</td>\n",
       "      <td>2129</td>\n",
       "      <td>19.2</td>\n",
       "      <td>148</td>\n",
       "      <td>0</td>\n",
       "      <td>No Failure</td>\n",
       "      <td>10.6</td>\n",
       "    </tr>\n",
       "    <tr>\n",
       "      <th>344</th>\n",
       "      <td>345</td>\n",
       "      <td>M15204</td>\n",
       "      <td>M</td>\n",
       "      <td>297.5</td>\n",
       "      <td>308.2</td>\n",
       "      <td>2448</td>\n",
       "      <td>13.8</td>\n",
       "      <td>29</td>\n",
       "      <td>0</td>\n",
       "      <td>No Failure</td>\n",
       "      <td>10.7</td>\n",
       "    </tr>\n",
       "    <tr>\n",
       "      <th>...</th>\n",
       "      <td>...</td>\n",
       "      <td>...</td>\n",
       "      <td>...</td>\n",
       "      <td>...</td>\n",
       "      <td>...</td>\n",
       "      <td>...</td>\n",
       "      <td>...</td>\n",
       "      <td>...</td>\n",
       "      <td>...</td>\n",
       "      <td>...</td>\n",
       "      <td>...</td>\n",
       "    </tr>\n",
       "    <tr>\n",
       "      <th>9758</th>\n",
       "      <td>9759</td>\n",
       "      <td>L56938</td>\n",
       "      <td>L</td>\n",
       "      <td>298.6</td>\n",
       "      <td>309.8</td>\n",
       "      <td>2271</td>\n",
       "      <td>16.2</td>\n",
       "      <td>218</td>\n",
       "      <td>1</td>\n",
       "      <td>Tool Wear Failure</td>\n",
       "      <td>11.2</td>\n",
       "    </tr>\n",
       "    <tr>\n",
       "      <th>9832</th>\n",
       "      <td>9833</td>\n",
       "      <td>L57012</td>\n",
       "      <td>L</td>\n",
       "      <td>298.4</td>\n",
       "      <td>309.2</td>\n",
       "      <td>2118</td>\n",
       "      <td>17.7</td>\n",
       "      <td>210</td>\n",
       "      <td>0</td>\n",
       "      <td>No Failure</td>\n",
       "      <td>10.8</td>\n",
       "    </tr>\n",
       "    <tr>\n",
       "      <th>9849</th>\n",
       "      <td>9850</td>\n",
       "      <td>L57029</td>\n",
       "      <td>L</td>\n",
       "      <td>298.6</td>\n",
       "      <td>309.4</td>\n",
       "      <td>2312</td>\n",
       "      <td>15.5</td>\n",
       "      <td>44</td>\n",
       "      <td>0</td>\n",
       "      <td>No Failure</td>\n",
       "      <td>10.8</td>\n",
       "    </tr>\n",
       "    <tr>\n",
       "      <th>9865</th>\n",
       "      <td>9866</td>\n",
       "      <td>M24725</td>\n",
       "      <td>M</td>\n",
       "      <td>298.9</td>\n",
       "      <td>309.8</td>\n",
       "      <td>2450</td>\n",
       "      <td>13.9</td>\n",
       "      <td>89</td>\n",
       "      <td>0</td>\n",
       "      <td>No Failure</td>\n",
       "      <td>10.9</td>\n",
       "    </tr>\n",
       "    <tr>\n",
       "      <th>9939</th>\n",
       "      <td>9940</td>\n",
       "      <td>H39353</td>\n",
       "      <td>H</td>\n",
       "      <td>298.3</td>\n",
       "      <td>308.1</td>\n",
       "      <td>2636</td>\n",
       "      <td>12.8</td>\n",
       "      <td>84</td>\n",
       "      <td>0</td>\n",
       "      <td>No Failure</td>\n",
       "      <td>9.8</td>\n",
       "    </tr>\n",
       "  </tbody>\n",
       "</table>\n",
       "<p>178 rows × 11 columns</p>\n",
       "</div>"
      ],
      "text/plain": [
       "       UDI Product ID Type  Air temperature [K]  Process temperature [K]  \\\n",
       "50      51     L47230    L                298.9                    309.1   \n",
       "194    195     M15054    M                298.2                    308.5   \n",
       "298    299     H29712    H                297.9                    308.5   \n",
       "305    306     L47485    L                297.8                    308.4   \n",
       "344    345     M15204    M                297.5                    308.2   \n",
       "...    ...        ...  ...                  ...                      ...   \n",
       "9758  9759     L56938    L                298.6                    309.8   \n",
       "9832  9833     L57012    L                298.4                    309.2   \n",
       "9849  9850     L57029    L                298.6                    309.4   \n",
       "9865  9866     M24725    M                298.9                    309.8   \n",
       "9939  9940     H39353    H                298.3                    308.1   \n",
       "\n",
       "      Rotational speed [rpm]  Torque [Nm]  Tool wear [min]  Target  \\\n",
       "50                      2861          4.6              143       1   \n",
       "194                     2678         10.7               86       1   \n",
       "298                     2129         18.7              126       0   \n",
       "305                     2129         19.2              148       0   \n",
       "344                     2448         13.8               29       0   \n",
       "...                      ...          ...              ...     ...   \n",
       "9758                    2271         16.2              218       1   \n",
       "9832                    2118         17.7              210       0   \n",
       "9849                    2312         15.5               44       0   \n",
       "9865                    2450         13.9               89       0   \n",
       "9939                    2636         12.8               84       0   \n",
       "\n",
       "           Failure Type  Temp_Diff  \n",
       "50        Power Failure       10.2  \n",
       "194       Power Failure       10.3  \n",
       "298          No Failure       10.6  \n",
       "305          No Failure       10.6  \n",
       "344          No Failure       10.7  \n",
       "...                 ...        ...  \n",
       "9758  Tool Wear Failure       11.2  \n",
       "9832         No Failure       10.8  \n",
       "9849         No Failure       10.8  \n",
       "9865         No Failure       10.9  \n",
       "9939         No Failure        9.8  \n",
       "\n",
       "[178 rows x 11 columns]"
      ]
     },
     "execution_count": 9,
     "metadata": {},
     "output_type": "execute_result"
    }
   ],
   "source": [
    "from scipy import stats\n",
    "import numpy as np\n",
    "\n",
    "z_scores = np.abs(stats.zscore(df[num_cols])) # Calculate Z-scores for numerical columns\n",
    "outlier_mask = (z_scores > 3).any(axis = 1) # Identify outliers that have a Z-score greater than 3\n",
    "df[outlier_mask]"
   ]
  },
  {
   "cell_type": "code",
   "execution_count": null,
   "id": "ec0362fa",
   "metadata": {},
   "outputs": [],
   "source": []
  }
 ],
 "metadata": {
  "kernelspec": {
   "display_name": "machine",
   "language": "python",
   "name": "python3"
  },
  "language_info": {
   "codemirror_mode": {
    "name": "ipython",
    "version": 3
   },
   "file_extension": ".py",
   "mimetype": "text/x-python",
   "name": "python",
   "nbconvert_exporter": "python",
   "pygments_lexer": "ipython3",
   "version": "3.11.13"
  }
 },
 "nbformat": 4,
 "nbformat_minor": 5
}
